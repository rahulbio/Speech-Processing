{
 "cells": [
  {
   "cell_type": "code",
   "execution_count": null,
   "metadata": {},
   "outputs": [],
   "source": [
    "import os\n",
    "from kaldi.feat.wave import WaveData\n",
    "import numpy as np\n",
    "from dependencies_ppg import DependenciesPPG  # Assuming the class you shared is saved in 'dependencies_ppg.py'\n",
    "\n",
    "# Define paths\n",
    "WAV_DIR_INDIAN = 'path/to/indian_wavs'  # Directory containing Indian wavs\n",
    "WAV_DIR_AMERICAN = 'path/to/american_wavs'  # Directory containing American wavs\n",
    "NNET_PATH = 'path/to/nnet/model'  # Path to the acoustic model (e.g., final.raw)\n",
    "LDA_PATH = 'path/to/lda/matrix'  # Path to LDA matrix\n",
    "REDUCE_DIM_PATH = 'path/to/pdf_to_monophone/transformation'  # Path to transformation matrix\n",
    "\n",
    "# Instantiate DependenciesPPG class\n",
    "deps = DependenciesPPG(nnet_path=NNET_PATH, lda_path=LDA_PATH, reduce_dim_path=REDUCE_DIM_PATH)\n",
    "\n",
    "# Function to compute PPGs for all WAV files in a directory\n",
    "def compute_ppgs_for_directory(wav_dir, nnet, lda, transform):\n",
    "    ppgs_dict = {}  # Store PPGs for each wav file\n",
    "    for wav_file in os.listdir(wav_dir):\n",
    "        if wav_file.endswith('.wav'):\n",
    "            wav_path = os.path.join(wav_dir, wav_file)\n",
    "            wav_data = WaveData.read(wav_path)  # Read the wav file\n",
    "            ppgs = compute_monophone_ppg(wav_data, nnet, lda, transform)  # Compute PPGs\n",
    "            ppgs_dict[wav_file] = ppgs  # Save PPGs to dictionary\n",
    "    return ppgs_dict\n",
    "\n",
    "# Compute PPGs for Indian and American wavs\n",
    "indian_ppgs = compute_ppgs_for_directory(WAV_DIR_INDIAN, deps.nnet, deps.lda, deps.monophone_trans)\n",
    "american_ppgs = compute_ppgs_for_directory(WAV_DIR_AMERICAN, deps.nnet, deps.lda, deps.monophone_trans)\n",
    "\n",
    "# Example: Print the PPG for one Indian wav file\n",
    "indian_sample = list(indian_ppgs.keys())[0]\n",
    "print(f\"PPG for {indian_sample}:\", indian_ppgs[indian_sample])\n",
    "\n",
    "# Example: Print the PPG for one American wav file\n",
    "american_sample = list(american_ppgs.keys())[0]\n",
    "print(f\"PPG for {american_sample}:\", american_ppgs[american_sample])\n"
   ]
  }
 ],
 "metadata": {
  "kernelspec": {
   "display_name": "Python 3",
   "language": "python",
   "name": "python3"
  },
  "language_info": {
   "codemirror_mode": {
    "name": "ipython",
    "version": 3
   },
   "file_extension": ".py",
   "mimetype": "text/x-python",
   "name": "python",
   "nbconvert_exporter": "python",
   "pygments_lexer": "ipython3",
   "version": "3.11.5"
  }
 },
 "nbformat": 4,
 "nbformat_minor": 2
}
