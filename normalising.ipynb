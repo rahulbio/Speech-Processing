{
 "cells": [
  {
   "cell_type": "code",
   "execution_count": 3,
   "metadata": {},
   "outputs": [
    {
     "name": "stdout",
     "output_type": "stream",
     "text": [
      "Normalized audio files saved in normalized_american_wavs.\n"
     ]
    }
   ],
   "source": [
    "import os\n",
    "import librosa\n",
    "import soundfile as sf\n",
    "import numpy as np\n",
    "\n",
    "# Define the target duration in seconds\n",
    "TARGET_DURATION = 4.0  # seconds\n",
    "OUTPUT_DIR = \"normalized_american_wavs\"  # Directory to save normalized files\n",
    "\n",
    "# Create the output directory if it doesn't exist\n",
    "os.makedirs(OUTPUT_DIR, exist_ok=True)\n",
    "\n",
    "def normalize_audio_length(input_path, output_path, target_duration):\n",
    "    # Load the audio file\n",
    "    audio, sr = librosa.load(input_path, sr=None)\n",
    "    \n",
    "    # Calculate the target number of samples\n",
    "    target_samples = int(target_duration * sr)\n",
    "    \n",
    "    if len(audio) > target_samples:\n",
    "        # Truncate the audio if it's longer than the target duration\n",
    "        normalized_audio = audio[:target_samples]\n",
    "    else:\n",
    "        # Pad the audio with zeros (silence) if it's shorter than the target duration\n",
    "        pad_length = target_samples - len(audio)\n",
    "        normalized_audio = np.pad(audio, (0, pad_length), mode='constant')\n",
    "    \n",
    "    # Save the normalized audio\n",
    "    sf.write(output_path, normalized_audio, sr)\n",
    "\n",
    "# Directory containing the WAV files\n",
    "input_dir = r\"D:\\Speech_Processing\\data\\american_accent\"\n",
    "\n",
    "# Normalize all WAV files in the directory\n",
    "for filename in os.listdir(input_dir):\n",
    "    if filename.endswith(\".wav\"):\n",
    "        input_path = os.path.join(input_dir, filename)\n",
    "        output_path = os.path.join(OUTPUT_DIR, filename)\n",
    "        normalize_audio_length(input_path, output_path, TARGET_DURATION)\n",
    "\n",
    "print(f\"Normalized audio files saved in {OUTPUT_DIR}.\")\n"
   ]
  }
 ],
 "metadata": {
  "kernelspec": {
   "display_name": "Python 3",
   "language": "python",
   "name": "python3"
  },
  "language_info": {
   "codemirror_mode": {
    "name": "ipython",
    "version": 3
   },
   "file_extension": ".py",
   "mimetype": "text/x-python",
   "name": "python",
   "nbconvert_exporter": "python",
   "pygments_lexer": "ipython3",
   "version": "3.11.5"
  }
 },
 "nbformat": 4,
 "nbformat_minor": 2
}
