{
 "cells": [
  {
   "cell_type": "code",
   "execution_count": null,
   "metadata": {},
   "outputs": [],
   "source": [
    "import librosa\n",
    "import soundfile as sf\n",
    "import os\n",
    "\n",
    "def process_audio(input_dir, output_dir, target_length=4.0, target_sr=16000):\n",
    "    \"\"\"\n",
    "    Processes audio files to ensure uniform length and sampling rate.\n",
    "\n",
    "    Parameters:\n",
    "    - input_dir (str): Path to the directory containing input .wav files.\n",
    "    - output_dir (str): Path to the directory to save processed .wav files.\n",
    "    - target_length (float): Target duration for all audio files in seconds. Default is 4.0 seconds.\n",
    "    - target_sr (int): Target sampling rate for all audio files. Default is 16000 Hz.\n",
    "\n",
    "    \"\"\"\n",
    "    os.makedirs(output_dir, exist_ok=True)  # Create output directory if it doesn't exist\n",
    "    \n",
    "    for file_name in os.listdir(input_dir):\n",
    "        if file_name.endswith('.wav'):\n",
    "            input_path = os.path.join(input_dir, file_name)\n",
    "            output_path = os.path.join(output_dir, file_name)\n",
    "            \n",
    "            # Load the audio file\n",
    "            audio, sr = librosa.load(input_path, sr=None)\n",
    "            \n",
    "            # Resample to the target sampling rate if necessary\n",
    "            if sr != target_sr:\n",
    "                audio = librosa.resample(audio, orig_sr=sr, target_sr=target_sr)\n",
    "                sr = target_sr\n",
    "            \n",
    "            # Compute target samples based on the target length\n",
    "            target_samples = int(target_length * sr)\n",
    "            \n",
    "            # Adjust audio length: pad with zeros or truncate\n",
    "            if len(audio) < target_samples:\n",
    "                audio = librosa.util.fix_length(audio, target_samples)  # Pad with zeros (no axis argument in older versions)\n",
    "            elif len(audio) > target_samples:\n",
    "                audio = audio[:target_samples]  # Truncate\n",
    "            \n",
    "            # Save the processed audio file\n",
    "            sf.write(output_path, audio, sr)\n",
    "            print(f\"Processed and saved: {output_path}\")\n",
    "\n",
    "# Example usage\n",
    "input_directory = r\"D:\\Speech_Processing\\data\\indian_accent\"  # Replace with your input directory path\n",
    "output_directory = \"preprocessed_indian\"  # Replace with your output directory path\n",
    "process_audio(input_directory, output_directory)\n"
   ]
  }
 ],
 "metadata": {
  "kernelspec": {
   "display_name": "Python 3",
   "language": "python",
   "name": "python3"
  },
  "language_info": {
   "name": "python",
   "version": "3.11.5"
  }
 },
 "nbformat": 4,
 "nbformat_minor": 2
}
